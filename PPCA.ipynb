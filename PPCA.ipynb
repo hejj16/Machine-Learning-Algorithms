{
 "cells": [
  {
   "cell_type": "code",
   "execution_count": 5,
   "metadata": {},
   "outputs": [],
   "source": [
    "import torch\n",
    "import pyro\n",
    "import numpy as np\n",
    "from torch import nn\n",
    "import pyro.distributions as dist\n",
    "from pyro.infer import Trace_ELBO, SVI\n",
    "from pyro.optim import Adam\n",
    "import matplotlib.pyplot as plt\n",
    "from pyro.infer.autoguide import AutoDelta, AutoGuideList, AutoDiagonalNormal, AutoNormal\n",
    "from pyro import poutine"
   ]
  },
  {
   "cell_type": "code",
   "execution_count": 6,
   "metadata": {},
   "outputs": [],
   "source": [
    "# Generate Artificial Samples\n",
    "z_true = torch.randn(100, 2)\n",
    "W_true = torch.round(torch.randn(2, 5) * 5)\n",
    "mu_true = torch.ones(5) * 2\n",
    "X = z_true @ W_true + mu_true + torch.randn(100, 5) * 0.5"
   ]
  },
  {
   "cell_type": "code",
   "execution_count": 7,
   "metadata": {},
   "outputs": [
    {
     "data": {
      "text/plain": [
       "tensor([[ 5., -6., -1.,  5., -2.],\n",
       "        [ 2., -1., -5., -1., -2.]])"
      ]
     },
     "execution_count": 7,
     "metadata": {},
     "output_type": "execute_result"
    }
   ],
   "source": [
    "W_true"
   ]
  },
  {
   "cell_type": "markdown",
   "metadata": {},
   "source": [
    "## Model 1\n",
    "\n",
    "PPCA, without prior over $W$"
   ]
  },
  {
   "cell_type": "code",
   "execution_count": 47,
   "metadata": {},
   "outputs": [],
   "source": [
    "\n",
    "class PCA_1(nn.Module):\n",
    "    def __init__(self, latent_dim=2):\n",
    "        super().__init__()\n",
    "        self.latent_dim = latent_dim\n",
    "        \n",
    "    def model(self, x):\n",
    "        n = x.size(0)\n",
    "        obs_dim = x.size(1)\n",
    "        \n",
    "        w = pyro.param(\"w\", torch.randn(self.latent_dim, obs_dim))\n",
    "        mu = pyro.param(\"mu\", torch.rand(obs_dim))\n",
    "        sigma = pyro.param(\"sigma\", torch.ones(1), constraint=pyro.distributions.constraints.positive)\n",
    "        \n",
    "        with pyro.plate(\"data_size_z\", n):\n",
    "            z = pyro.sample(\"Z\", dist.Normal(0, 1).expand([n, self.latent_dim]).to_event(1))\n",
    "            pyro.sample(\"X\", dist.MultivariateNormal(z @ w + mu, torch.eye(obs_dim) * sigma), obs=x)\n",
    "            \n",
    "            "
   ]
  },
  {
   "cell_type": "code",
   "execution_count": 48,
   "metadata": {},
   "outputs": [],
   "source": [
    "pyro.clear_param_store()\n",
    "pca = PCA_1()\n",
    "opt = Adam({\"lr\": 0.01})\n",
    "\n",
    "guide = AutoGuideList(pca.model)\n",
    "guide.append(AutoNormal(poutine.block(pca.model, hide=[])))\n",
    "svi = SVI(pca.model, guide, optim=opt, loss=Trace_ELBO())"
   ]
  },
  {
   "cell_type": "code",
   "execution_count": 49,
   "metadata": {},
   "outputs": [],
   "source": [
    "ELBO = []\n",
    "for i in range(3000):\n",
    "    elbo = svi.step(X)\n",
    "    ELBO.append(-elbo)"
   ]
  },
  {
   "cell_type": "code",
   "execution_count": 50,
   "metadata": {},
   "outputs": [
    {
     "data": {
      "text/plain": [
       "[<matplotlib.lines.Line2D at 0x26b7b56b070>]"
      ]
     },
     "execution_count": 50,
     "metadata": {},
     "output_type": "execute_result"
    },
    {
     "data": {
      "image/png": "[encoded data removed]",
      "text/plain": [
       "<Figure size 432x288 with 1 Axes>"
      ]
     },
     "metadata": {
      "needs_background": "light"
     },
     "output_type": "display_data"
    }
   ],
   "source": [
    "plt.rcParams[\"figure.figsize\"] = (6, 4)\n",
    "plt.plot(ELBO)"
   ]
  },
  {
   "cell_type": "code",
   "execution_count": 51,
   "metadata": {},
   "outputs": [
    {
     "data": {
      "text/plain": [
       "<matplotlib.collections.PathCollection at 0x26b7b5bdf40>"
      ]
     },
     "execution_count": 51,
     "metadata": {},
     "output_type": "execute_result"
    },
    {
     "data": {
      "image/png": "[encoded data removed]",
      "text/plain": [
       "<Figure size 360x360 with 1 Axes>"
      ]
     },
     "metadata": {
      "needs_background": "light"
     },
     "output_type": "display_data"
    }
   ],
   "source": [
    "plt.rcParams[\"figure.figsize\"] = (5, 5)\n",
    "plt.scatter(guide.median()[\"Z\"][:, 0].detach().numpy(), guide.median()[\"Z\"][:, 1].detach().numpy())"
   ]
  },
  {
   "cell_type": "code",
   "execution_count": 52,
   "metadata": {},
   "outputs": [
    {
     "data": {
      "text/plain": [
       "<matplotlib.collections.PathCollection at 0x26b7b61e400>"
      ]
     },
     "execution_count": 52,
     "metadata": {},
     "output_type": "execute_result"
    },
    {
     "data": {
      "image/png": "[encoded data removed]",
      "text/plain": [
       "<Figure size 360x360 with 1 Axes>"
      ]
     },
     "metadata": {
      "needs_background": "light"
     },
     "output_type": "display_data"
    }
   ],
   "source": [
    "plt.scatter(z_true[:, 0].detach().numpy(), z_true[:, 1].detach().numpy())"
   ]
  },
  {
   "cell_type": "markdown",
   "metadata": {},
   "source": [
    "## Model 2\n",
    "\n",
    "Bayesian PPCA, with ARD prior over $W$"
   ]
  },
  {
   "cell_type": "code",
   "execution_count": 53,
   "metadata": {},
   "outputs": [],
   "source": [
    "class PCA_2(nn.Module):\n",
    "    def __init__(self, latent_dim=4):\n",
    "        super().__init__()\n",
    "        self.latent_dim = latent_dim\n",
    "        \n",
    "    def model(self, x):\n",
    "        n = x.size(0)\n",
    "        obs_dim = x.size(1)\n",
    "        \n",
    "        a = pyro.param(\"a\", torch.ones([self.latent_dim, 1]), constraint=pyro.distributions.constraints.positive)\n",
    "        mu = pyro.param(\"mu\", torch.rand(obs_dim))\n",
    "        sigma = pyro.param(\"sigma\", torch.ones(1), constraint=pyro.distributions.constraints.positive)\n",
    "        \n",
    "        with pyro.plate(\"latent_dim\", self.latent_dim):\n",
    "            W = pyro.sample(\"W\", dist.Normal(0, a.expand([self.latent_dim, obs_dim]) ** -1).to_event(1))\n",
    "        with pyro.plate(\"data_size_z\", n):\n",
    "            z = pyro.sample(\"Z\", dist.Normal(0, 1).expand([self.latent_dim]).to_event(1))\n",
    "            pyro.sample(\"X\", dist.MultivariateNormal(z @ W + mu, torch.eye(obs_dim) * sigma), obs=x)"
   ]
  },
  {
   "cell_type": "code",
   "execution_count": 54,
   "metadata": {},
   "outputs": [],
   "source": [
    "pyro.clear_param_store()\n",
    "pca = PCA_2()\n",
    "\n",
    "opt = Adam({\"lr\": 0.01})\n",
    "\n",
    "guide = AutoGuideList(pca.model)\n",
    "guide.append(AutoNormal(poutine.block(pca.model, hide=[])))#, hide=[\"W\"])))\n",
    "#guide.state_dict()[\"0.locs.W_unconstrained\"] = nn.Parameter(torch.cat([W_true, torch.zeros(2, 5)]).detach())\n",
    "\n",
    "#guide.append(AutoDelta(poutine.block(pca.model, expose=[\"W\"])))\n",
    "\n",
    "svi = SVI(pca.model, guide, optim=opt, loss=Trace_ELBO())"
   ]
  },
  {
   "cell_type": "code",
   "execution_count": 55,
   "metadata": {},
   "outputs": [],
   "source": [
    "ELBO = []\n",
    "for i in range(4000):\n",
    "    elbo = svi.step(X)\n",
    "    ELBO.append(-elbo)"
   ]
  },
  {
   "cell_type": "code",
   "execution_count": 56,
   "metadata": {},
   "outputs": [
    {
     "data": {
      "text/plain": [
       "[<matplotlib.lines.Line2D at 0x26b7793d700>]"
      ]
     },
     "execution_count": 56,
     "metadata": {},
     "output_type": "execute_result"
    },
    {
     "data": {
      "image/png": "[encoded data removed]",
      "text/plain": [
       "<Figure size 432x288 with 1 Axes>"
      ]
     },
     "metadata": {
      "needs_background": "light"
     },
     "output_type": "display_data"
    }
   ],
   "source": [
    "plt.rcParams[\"figure.figsize\"] = (6, 4)\n",
    "plt.plot(ELBO)"
   ]
  },
  {
   "cell_type": "code",
   "execution_count": 57,
   "metadata": {},
   "outputs": [
    {
     "data": {
      "text/plain": [
       "tensor([[37.1849],\n",
       "        [ 0.2590],\n",
       "        [33.1833],\n",
       "        [ 0.4159]], grad_fn=<AddBackward0>)"
      ]
     },
     "execution_count": 57,
     "metadata": {},
     "output_type": "execute_result"
    }
   ],
   "source": [
    "pyro.param(\"a\")"
   ]
  },
  {
   "cell_type": "code",
   "execution_count": 60,
   "metadata": {},
   "outputs": [
    {
     "data": {
      "text/plain": [
       "<matplotlib.collections.PathCollection at 0x26b77b58eb0>"
      ]
     },
     "execution_count": 60,
     "metadata": {},
     "output_type": "execute_result"
    },
    {
     "data": {
      "image/png": "[encoded data removed]",
      "text/plain": [
       "<Figure size 360x360 with 1 Axes>"
      ]
     },
     "metadata": {
      "needs_background": "light"
     },
     "output_type": "display_data"
    }
   ],
   "source": [
    "plt.rcParams[\"figure.figsize\"] = (5, 5)\n",
    "plt.axis('equal')\n",
    "plt.scatter(guide.median()[\"Z\"][:, 1].detach().numpy(), guide.median()[\"Z\"][:, 3].detach().numpy())"
   ]
  },
  {
   "cell_type": "code",
   "execution_count": 61,
   "metadata": {},
   "outputs": [
    {
     "data": {
      "text/plain": [
       "<matplotlib.collections.PathCollection at 0x26b7b768130>"
      ]
     },
     "execution_count": 61,
     "metadata": {},
     "output_type": "execute_result"
    },
    {
     "data": {
      "image/png": "[encoded data removed]",
      "text/plain": [
       "<Figure size 360x360 with 1 Axes>"
      ]
     },
     "metadata": {
      "needs_background": "light"
     },
     "output_type": "display_data"
    }
   ],
   "source": [
    "plt.axis('equal')\n",
    "plt.scatter(z_true[:, 0].detach().numpy(), z_true[:, 1].detach().numpy())"
   ]
  },
  {
   "cell_type": "markdown",
   "metadata": {},
   "source": [
    "## Model 3\n",
    "Set ARD prior to $Z$ and constrain $W$ by a fixed prior\n"
   ]
  },
  {
   "cell_type": "code",
   "execution_count": 68,
   "metadata": {},
   "outputs": [],
   "source": [
    "class PCA_3(nn.Module):\n",
    "    def __init__(self, latent_dim=4, obs_dim=5, n=100):\n",
    "        super().__init__()\n",
    "\n",
    "        self.latent_dim = latent_dim\n",
    "\n",
    "        \n",
    "    def model(self, x):\n",
    "        n = x.size(0)\n",
    "        obs_dim = x.size(1)\n",
    "        \n",
    "        b = pyro.param(\"b\", torch.ones(1), constraint=pyro.distributions.constraints.positive)\n",
    "        a = pyro.param(\"a\", torch.rand(self.latent_dim), constraint=pyro.distributions.constraints.positive)\n",
    "        mu = pyro.param(\"mu\", torch.rand(obs_dim))\n",
    "        sigma = pyro.param(\"sigma\", torch.ones(1), constraint=pyro.distributions.constraints.positive)\n",
    "\n",
    "        with pyro.plate(\"latent_dim\", self.latent_dim):\n",
    "            W = pyro.sample(\"W\", dist.Normal(0, b * torch.ones(obs_dim)).to_event(1))\n",
    "        with pyro.plate(\"data_size_z\", n):\n",
    "            z = pyro.sample(\"Z\", dist.Normal(0, a ** -1).expand([n, self.latent_dim]).to_event(1))\n",
    "            pyro.sample(\"X\", dist.MultivariateNormal(z @ W + mu, torch.eye(obs_dim) * sigma), obs=x)"
   ]
  },
  {
   "cell_type": "code",
   "execution_count": 69,
   "metadata": {},
   "outputs": [],
   "source": [
    "pyro.clear_param_store()\n",
    "pca = PCA_3()\n",
    "\n",
    "\n",
    "opt = Adam({\"lr\": 0.01})\n",
    "\n",
    "guide = AutoGuideList(pca.model)\n",
    "guide.append(AutoNormal(poutine.block(pca.model, hide=[])))#, hide=[\"W\"])))\n",
    "#guide.state_dict()[\"0.locs.W_unconstrained\"] = nn.Parameter(torch.cat([W_true, torch.zeros(2, 5)]).detach())\n",
    "\n",
    "#guide.append(AutoDelta(poutine.block(pca.model, expose=[\"W\"])))\n",
    "\n",
    "svi = SVI(pca.model, guide, optim=opt, loss=Trace_ELBO())"
   ]
  },
  {
   "cell_type": "code",
   "execution_count": 70,
   "metadata": {},
   "outputs": [],
   "source": [
    "ELBO = []\n",
    "for i in range(7000):\n",
    "    elbo = svi.step(X)\n",
    "    ELBO.append(-elbo)"
   ]
  },
  {
   "cell_type": "code",
   "execution_count": 71,
   "metadata": {},
   "outputs": [
    {
     "data": {
      "text/plain": [
       "[<matplotlib.lines.Line2D at 0x26b7c8ab520>]"
      ]
     },
     "execution_count": 71,
     "metadata": {},
     "output_type": "execute_result"
    },
    {
     "data": {
      "image/png": "[encoded data removed]",
      "text/plain": [
       "<Figure size 432x288 with 1 Axes>"
      ]
     },
     "metadata": {
      "needs_background": "light"
     },
     "output_type": "display_data"
    }
   ],
   "source": [
    "plt.rcParams[\"figure.figsize\"] = (6, 4)\n",
    "plt.plot(ELBO)"
   ]
  },
  {
   "cell_type": "code",
   "execution_count": 72,
   "metadata": {},
   "outputs": [
    {
     "data": {
      "text/plain": [
       "tensor([4.2182, 0.5842, 0.4665, 5.6843], grad_fn=<AddBackward0>)"
      ]
     },
     "execution_count": 72,
     "metadata": {},
     "output_type": "execute_result"
    }
   ],
   "source": [
    "pyro.param(\"a\")"
   ]
  },
  {
   "cell_type": "code",
   "execution_count": 73,
   "metadata": {},
   "outputs": [
    {
     "data": {
      "text/plain": [
       "<matplotlib.collections.PathCollection at 0x26b7c79c910>"
      ]
     },
     "execution_count": 73,
     "metadata": {},
     "output_type": "execute_result"
    },
    {
     "data": {
      "image/png": "[encoded data removed]",
      "text/plain": [
       "<Figure size 360x360 with 1 Axes>"
      ]
     },
     "metadata": {
      "needs_background": "light"
     },
     "output_type": "display_data"
    }
   ],
   "source": [
    "plt.rcParams[\"figure.figsize\"] = (5, 5)\n",
    "plt.axis('equal')\n",
    "plt.scatter(guide.median()[\"Z\"][:, 1].detach().numpy(), guide.median()[\"Z\"][:, 2].detach().numpy())"
   ]
  },
  {
   "cell_type": "code",
   "execution_count": 74,
   "metadata": {},
   "outputs": [
    {
     "data": {
      "text/plain": [
       "<matplotlib.collections.PathCollection at 0x26b7c920100>"
      ]
     },
     "execution_count": 74,
     "metadata": {},
     "output_type": "execute_result"
    },
    {
     "data": {
      "image/png": "[encoded data removed]",
      "text/plain": [
       "<Figure size 360x360 with 1 Axes>"
      ]
     },
     "metadata": {
      "needs_background": "light"
     },
     "output_type": "display_data"
    }
   ],
   "source": [
    "plt.axis('equal')\n",
    "plt.scatter(z_true[:, 0].detach().numpy(), z_true[:, 1].detach().numpy())"
   ]
  },
  {
   "cell_type": "code",
   "execution_count": null,
   "metadata": {},
   "outputs": [],
   "source": []
  },
  {
   "cell_type": "code",
   "execution_count": null,
   "metadata": {},
   "outputs": [],
   "source": []
  },
  {
   "cell_type": "code",
   "execution_count": null,
   "metadata": {},
   "outputs": [],
   "source": []
  },
  {
   "cell_type": "code",
   "execution_count": null,
   "metadata": {},
   "outputs": [],
   "source": []
  }
 ],
 "metadata": {
  "kernelspec": {
   "display_name": "Python 3",
   "language": "python",
   "name": "python3"
  },
  "language_info": {
   "codemirror_mode": {
    "name": "ipython",
    "version": 3
   },
   "file_extension": ".py",
   "mimetype": "text/x-python",
   "name": "python",
   "nbconvert_exporter": "python",
   "pygments_lexer": "ipython3",
   "version": "3.8.3"
  }
 },
 "nbformat": 4,
 "nbformat_minor": 4
}
